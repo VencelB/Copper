{
  "cells": [
    {
      "cell_type": "code",
      "execution_count": null,
      "metadata": {
        "colab": {
          "base_uri": "https://localhost:8080/"
        },
        "id": "OC0mH5WlIyOz",
        "outputId": "ef4fc4e2-ade0-442a-9715-54fe575b3a8a"
      },
      "outputs": [
        {
          "output_type": "stream",
          "name": "stdout",
          "text": [
            "Collecting radon\n",
            "  Downloading radon-6.0.1-py2.py3-none-any.whl (52 kB)\n",
            "\u001b[2K     \u001b[90m━━━━━━━━━━━━━━━━━━━━━━━━━━━━━━━━━━━━━━━━\u001b[0m \u001b[32m52.8/52.8 kB\u001b[0m \u001b[31m1.2 MB/s\u001b[0m eta \u001b[36m0:00:00\u001b[0m\n",
            "\u001b[?25hCollecting mando<0.8,>=0.6 (from radon)\n",
            "  Downloading mando-0.7.1-py2.py3-none-any.whl (28 kB)\n",
            "Collecting colorama>=0.4.1 (from radon)\n",
            "  Downloading colorama-0.4.6-py2.py3-none-any.whl (25 kB)\n",
            "Requirement already satisfied: six in /usr/local/lib/python3.10/dist-packages (from mando<0.8,>=0.6->radon) (1.16.0)\n",
            "Installing collected packages: mando, colorama, radon\n",
            "Successfully installed colorama-0.4.6 mando-0.7.1 radon-6.0.1\n",
            "Requirement already satisfied: gdown in /usr/local/lib/python3.10/dist-packages (4.6.6)\n",
            "Requirement already satisfied: filelock in /usr/local/lib/python3.10/dist-packages (from gdown) (3.12.2)\n",
            "Requirement already satisfied: requests[socks] in /usr/local/lib/python3.10/dist-packages (from gdown) (2.31.0)\n",
            "Requirement already satisfied: six in /usr/local/lib/python3.10/dist-packages (from gdown) (1.16.0)\n",
            "Requirement already satisfied: tqdm in /usr/local/lib/python3.10/dist-packages (from gdown) (4.66.1)\n",
            "Requirement already satisfied: beautifulsoup4 in /usr/local/lib/python3.10/dist-packages (from gdown) (4.11.2)\n",
            "Requirement already satisfied: soupsieve>1.2 in /usr/local/lib/python3.10/dist-packages (from beautifulsoup4->gdown) (2.5)\n",
            "Requirement already satisfied: charset-normalizer<4,>=2 in /usr/local/lib/python3.10/dist-packages (from requests[socks]->gdown) (3.2.0)\n",
            "Requirement already satisfied: idna<4,>=2.5 in /usr/local/lib/python3.10/dist-packages (from requests[socks]->gdown) (3.4)\n",
            "Requirement already satisfied: urllib3<3,>=1.21.1 in /usr/local/lib/python3.10/dist-packages (from requests[socks]->gdown) (2.0.4)\n",
            "Requirement already satisfied: certifi>=2017.4.17 in /usr/local/lib/python3.10/dist-packages (from requests[socks]->gdown) (2023.7.22)\n",
            "Requirement already satisfied: PySocks!=1.5.7,>=1.5.6 in /usr/local/lib/python3.10/dist-packages (from requests[socks]->gdown) (1.7.1)\n",
            "Downloading...\n",
            "From: https://drive.google.com/uc?id=1bs3NLKmO88X6rW54CJNX43Uyk0LIZqgU\n",
            "To: /content/full_dataset_final.csv\n",
            "100% 57.5M/57.5M [00:00<00:00, 132MB/s]\n"
          ]
        }
      ],
      "source": [
        "!pip install radon"
      ]
    },
    {
      "cell_type": "code",
      "execution_count": null,
      "metadata": {
        "id": "ZOGIHTuGJHR7"
      },
      "outputs": [],
      "source": [
        "from radon.raw import analyze\n",
        "from radon.complexity import cc_visit\n",
        "from radon.metrics import h_visit\n",
        "from radon.metrics import mi_parameters\n",
        "from radon.metrics import mi_compute\n",
        "from html.parser import HTMLParser\n",
        "import re\n",
        "import math\n",
        "import numpy as np\n",
        "import pandas as pd\n",
        "from tqdm import tqdm"
      ]
    },
    {
      "cell_type": "code",
      "execution_count": null,
      "metadata": {
        "id": "C4ktzL73eurU"
      },
      "outputs": [],
      "source": [
        "ds = pd.read_csv(\"dataset.csv\")"
      ]
    },
    {
      "cell_type": "code",
      "execution_count": null,
      "metadata": {
        "id": "rAypPOdrty7z"
      },
      "outputs": [],
      "source": [
        "class SnippetsGetter(HTMLParser):\n",
        "    def __init__(self):\n",
        "        self.s = []\n",
        "        self.pre_flag = False\n",
        "        self.code_flag = False\n",
        "        super().__init__()\n",
        "\n",
        "    def refresh_status(self):\n",
        "        self.s = []\n",
        "        self.pre_flag = False\n",
        "        self.code_flag = False\n",
        "\n",
        "    def get_status(self):\n",
        "        return self.s\n",
        "\n",
        "    def handle_starttag(self, tag, attrs):\n",
        "        if tag == 'pre':\n",
        "            self.pre_flag = True\n",
        "        if tag == 'code':\n",
        "            self.code_flag = True\n",
        "\n",
        "    def handle_endtag(self, tag):\n",
        "        if tag == 'pre':\n",
        "            self.pre_flag = False\n",
        "        if tag == 'code':\n",
        "            self.code_flag = False\n",
        "\n",
        "    def handle_data(self, data):\n",
        "        if self.pre_flag and self.code_flag:\n",
        "            self.s.append(data)"
      ]
    },
    {
      "cell_type": "code",
      "execution_count": null,
      "metadata": {
        "id": "wvUeA36Ui5Jq"
      },
      "outputs": [],
      "source": [
        "def get_code_statistics(code_snippet: str):\n",
        "    res = {}\n",
        "\n",
        "    basic_metrics = analyze(code_snippet)._asdict()\n",
        "    res[\"CodeLines\"] = basic_metrics[\"loc\"]\n",
        "    res[\"LogicalCodeLines\"] = basic_metrics[\"lloc\"]\n",
        "    res[\"SourceCodeLines\"] = basic_metrics[\"sloc\"]\n",
        "    res[\"Multilines\"] = basic_metrics[\"multi\"]\n",
        "    res[\"NumberOfFunctions\"] = len(cc_visit(code_snippet))\n",
        "\n",
        "    combined_metrics = h_visit(code_snippet).total._asdict()\n",
        "    res[\"DistinctOperators\"] = combined_metrics[\"h1\"]\n",
        "    res[\"DistinctOperands\"] = combined_metrics[\"h2\"]\n",
        "    res[\"TotalOperators\"] = combined_metrics[\"N1\"]\n",
        "    res[\"TotalOperands\"] = combined_metrics[\"N2\"]\n",
        "    res[\"Vocabulary\"] = combined_metrics[\"vocabulary\"] # h1 + h2\n",
        "    res[\"LogicalLength\"] = combined_metrics[\"length\"] # N1 + N2\n",
        "    res[\"CalculatedLength\"] = combined_metrics[\"h1\"] * np.log2(np.clip(combined_metrics[\"h1\"], 1, np.inf)) +\\\n",
        "                                combined_metrics[\"h2\"] * np.log2(np.clip(combined_metrics[\"h2\"], 1, np.inf))\n",
        "    res[\"Volume\"] = combined_metrics[\"length\"] * np.log2(np.clip(combined_metrics[\"vocabulary\"], 1, np.inf)) # N * log2(h)\n",
        "    res[\"Difficulty\"] = combined_metrics[\"h1\"] * combined_metrics[\"N2\"] / (2 * np.clip(combined_metrics[\"h2\"], 1, np.inf)) # h1 / 2 * N2 / h2\n",
        "    res[\"Effort\"] = res[\"Difficulty\"] * res[\"Volume\"] # Difficulty * Volume\n",
        "    mi_params = mi_parameters(code_snippet)\n",
        "    res[\"CyclomaticComplexity\"] = mi_params[1]\n",
        "    res[\"MaintainabilityIndex\"] = (\n",
        "                                    171\n",
        "                                    - 5.2 * np.log(np.clip(mi_params[0], 1, np.inf))\n",
        "                                    - 0.23 * mi_params[1]\n",
        "                                    - 16.2 * np.log(np.clip(mi_params[2], 1, np.inf))\n",
        "                                    + 50 * np.sin(np.sqrt(2.46 * np.clip(mi_params[3], 0, np.inf)))\n",
        "                                ) / 171\n",
        "\n",
        "    return res"
      ]
    },
    {
      "cell_type": "code",
      "execution_count": null,
      "metadata": {
        "colab": {
          "base_uri": "https://localhost:8080/"
        },
        "id": "1hSPXFkiTKxT",
        "outputId": "92c5e7fa-b304-4eab-cfa6-4ae6dc5b01fe"
      },
      "outputs": [
        {
          "output_type": "stream",
          "name": "stderr",
          "text": [
            "100%|██████████| 27705/27705 [02:13<00:00, 207.52it/s]\n"
          ]
        }
      ],
      "source": [
        "sg = SnippetsGetter()\n",
        "code_statistics = []\n",
        "for i in tqdm(range(ds.shape[0])):\n",
        "    code_statistics.append([ds.iloc[i].AnswerId, {\n",
        "        'CodeLines': [],\n",
        "        'LogicalCodeLines': 0,\n",
        "        'SourceCodeLines': 0,\n",
        "        'Multilines': 0,\n",
        "        'NumberOfFunctions': 0,\n",
        "        'CyclomaticComplexity': 0,\n",
        "        'DistinctOperators': 0,\n",
        "        'DistinctOperands': 0,\n",
        "        'TotalOperators': 0,\n",
        "        'TotalOperands': 0,\n",
        "        'Vocabulary': 0,\n",
        "        'LogicalLength': 0,\n",
        "        'CalculatedLength': 0,\n",
        "        'Volume': 0,\n",
        "        'Difficulty': 0,\n",
        "        'Effort': 0,\n",
        "        'MaintainabilityIndex': []\n",
        "    }])\n",
        "    cnt = 0\n",
        "    try:\n",
        "        sg.refresh_status()\n",
        "        sg.feed(ds.iloc[i].Answer)\n",
        "        snippets = sg.get_status()\n",
        "        snippets = [\n",
        "            \"\\n\".join([\n",
        "                    line if re.compile(\"print [^(]\").search(line) is None\n",
        "                            else re.sub(\"print[^(].*\", \"print(\" + line.split(\"print\")[1] + \")\", line)\n",
        "                    for line in s.split('\\n')\n",
        "                ])\n",
        "            for s in snippets\n",
        "        ]\n",
        "        for s in snippets:\n",
        "            try:\n",
        "                snippet_statistics = get_code_statistics(s)\n",
        "                for field in code_statistics[-1][1].keys():\n",
        "                    if field in ('CodeLines', 'MaintainabilityIndex'):\n",
        "                        code_statistics[-1][1][field].append(snippet_statistics[field])\n",
        "                    else:\n",
        "                        code_statistics[-1][1][field] += snippet_statistics[field]\n",
        "                cnt += 1\n",
        "            except: # interactive-type code\n",
        "                try:\n",
        "                    s = \"\\n\".join([re.sub(\">>> |\\.\\.\\. \", \"\", t) for t in s.split('\\n') if re.search(\"^[>>>|...]\", t)])\n",
        "                    snippet_statistics = get_code_statistics(s)\n",
        "                    for field in code_statistics[-1][1].keys():\n",
        "                        if field in ('CodeLines', 'MaintainabilityIndex'):\n",
        "                            code_statistics[-1][1][field].append(snippet_statistics[field])\n",
        "                        else:\n",
        "                            code_statistics[-1][1][field] += snippet_statistics[field]\n",
        "                    cnt += 1\n",
        "                except:\n",
        "                    pass\n",
        "    except:\n",
        "        pass\n",
        "    if np.sum(code_statistics[-1][1]['CodeLines']) == 0:\n",
        "        code_statistics.pop(-1)\n",
        "    else:\n",
        "        code_statistics[-1][1]['NumberOfSnippets'] = cnt\n",
        "        code_statistics[-1][1]['TotalCodeLines'] = np.sum(code_statistics[-1][1]['CodeLines'])\n",
        "        code_statistics[-1][1]['AvgSnippetCodeLines'] = np.mean(code_statistics[-1][1]['CodeLines'])\n",
        "        code_statistics[-1][1]['MaintainabilityIndexCodeLinesAvg'] = np.multiply(\n",
        "                                                                        code_statistics[-1][1]['MaintainabilityIndex'],\n",
        "                                                                        code_statistics[-1][1]['CodeLines']\n",
        "                                                                        ).sum() / np.sum(code_statistics[-1][1]['CodeLines'])\n",
        "        code_statistics[-1][1]['MaintainabilityIndexUniformAvg'] = np.mean(code_statistics[-1][1]['MaintainabilityIndex'])\n",
        "        code_statistics[-1][1].pop('CodeLines')\n",
        "        code_statistics[-1][1].pop('MaintainabilityIndex')"
      ]
    },
    {
      "cell_type": "code",
      "execution_count": null,
      "metadata": {
        "id": "5eZOMpbXUKa7"
      },
      "outputs": [],
      "source": [
        "ds_new = pd.merge(ds, pd.DataFrame([{\"AnswerId_\": t[0], **t[1]} for t in code_statistics]), left_on=\"AnswerId\", right_on=\"AnswerId_\").drop(columns=[\"AnswerId_\"])"
      ]
    },
    {
      "cell_type": "code",
      "source": [
        "ds_new.shape, ds_new.isna().sum()"
      ],
      "metadata": {
        "colab": {
          "base_uri": "https://localhost:8080/"
        },
        "id": "ktVND3EFPbiM",
        "outputId": "42c9c47c-2655-4875-a31a-91db2aff3a71"
      },
      "execution_count": null,
      "outputs": [
        {
          "output_type": "execute_result",
          "data": {
            "text/plain": [
              "((27705, 44),\n",
              " QuestionId                              0\n",
              " AcceptedAnswerId                        0\n",
              " QuestionScore                           0\n",
              " Question                                0\n",
              " Tags                                    0\n",
              " AnswerId                                0\n",
              " AnswerScore                             0\n",
              " Answer                                  0\n",
              " AvgCosineSimilarity                   126\n",
              " AvgL1NormCosineSimilarity             126\n",
              " AvgL2NormCosineSimilarity             126\n",
              " SphericalAvgL1Dist                    126\n",
              " SphericalAvgL2Dist                    126\n",
              " SphericalAvgCosineSimilarity          126\n",
              " L2NormDirichletParamsL1Dist           126\n",
              " L2NormDirichletParamsL2Dist           126\n",
              " L2NormDirichletQAKLDiveregence        126\n",
              " L2NormDirichletAQKLDiveregence        126\n",
              " ArctanNormDirichletParamsL1Dist       126\n",
              " ArctanNormDirichletParamsL2Dist       126\n",
              " ArctanNormDirichletQAKLDiveregence    126\n",
              " ArctanNormDirichletAQKLDiveregence    126\n",
              " DiagNormQAKLDiveregence               126\n",
              " DiagNormAQKLDiveregence               126\n",
              " LogicalCodeLines                        0\n",
              " SourceCodeLines                         0\n",
              " Multilines                              0\n",
              " NumberOfFunctions                       0\n",
              " CyclomaticComplexity                    0\n",
              " DistinctOperators                       0\n",
              " DistinctOperands                        0\n",
              " TotalOperators                          0\n",
              " TotalOperands                           0\n",
              " Vocabulary                              0\n",
              " LogicalLength                           0\n",
              " CalculatedLength                        0\n",
              " Volume                                  0\n",
              " Difficulty                              0\n",
              " Effort                                  0\n",
              " NumberOfSnippets                        0\n",
              " TotalCodeLines                          0\n",
              " AvgSnippetCodeLines                     0\n",
              " MaintainabilityIndexCodeLinesAvg        0\n",
              " MaintainabilityIndexUniformAvg          0\n",
              " dtype: int64)"
            ]
          },
          "metadata": {},
          "execution_count": 12
        }
      ]
    },
    {
      "cell_type": "code",
      "execution_count": null,
      "metadata": {
        "id": "UbgsleRKiQ6k"
      },
      "outputs": [],
      "source": [
        "ds_new.to_csv(\"dataset.csv\", index=False)"
      ]
    }
  ],
  "metadata": {
    "colab": {
      "provenance": []
    },
    "kernelspec": {
      "display_name": "Python 3",
      "name": "python3"
    },
    "language_info": {
      "name": "python"
    }
  },
  "nbformat": 4,
  "nbformat_minor": 0
}